{
 "cells": [
  {
   "cell_type": "code",
   "execution_count": 62,
   "metadata": {},
   "outputs": [],
   "source": [
    "class FamilyWealth():\n",
    "    def __init__(self, wealth, surname):\n",
    "        self.surname = surname\n",
    "        self.wealth = wealth\n",
    "        \n",
    "    def wealth_check(self):\n",
    "        print(f\"{self.surname}'s Family Savings: {self.wealth}\")\n",
    "        \n",
    "        \n",
    "class Father(FamilyWealth):\n",
    "    def __init__(self, name, wealth, OwnSavings, surname):\n",
    "        super().__init__(wealth, surname)\n",
    "        self.name = name\n",
    "        self.OwnSavings = OwnSavings\n",
    "\n",
    "    def wealth_check(self):\n",
    "        FamilyWealth.wealth_check(self)\n",
    "        print(f\"{self.name} {self.surname}'s personal savings: {self.OwnSavings}\")\n",
    "        \n",
    "        \n",
    "class Son(FamilyWealth):\n",
    "    def __init__(self, name, wealth, OwnSavings, surname):\n",
    "        super().__init__(wealth, surname)\n",
    "        self.name = name\n",
    "        self.OwnSavings = OwnSavings\n",
    "\n",
    "    def wealth_check(self):\n",
    "        FamilyWealth.wealth_check(self)\n",
    "        print(f\"{self.name} {self.surname}'s personal savings: {self.OwnSavings}\")       "
   ]
  },
  {
   "cell_type": "code",
   "execution_count": 67,
   "metadata": {},
   "outputs": [
    {
     "name": "stdout",
     "output_type": "stream",
     "text": [
      "Kooper's Family Savings: 10000\n"
     ]
    }
   ],
   "source": [
    "WholeFamily = FamilyWealth(10000, 'Kooper')\n",
    "WholeFamily.wealth_check()"
   ]
  },
  {
   "cell_type": "code",
   "execution_count": 68,
   "metadata": {},
   "outputs": [
    {
     "name": "stdout",
     "output_type": "stream",
     "text": [
      "Kooper's Family Savings: 10000\n",
      "Tom Kooper's personal savings: 3000\n",
      "Kooper's Family Savings: 10000\n",
      "Cam Kooper's personal savings: -800\n"
     ]
    }
   ],
   "source": [
    "Pa = Father('Tom', 10000, 3000, 'Kooper')\n",
    "Kid = Father('Cam', 10000, -800, 'Kooper')\n",
    "Pa.wealth_check()\n",
    "Kid.wealth_check()"
   ]
  }
 ],
 "metadata": {
  "kernelspec": {
   "display_name": "Python 3",
   "language": "python",
   "name": "python3"
  },
  "language_info": {
   "codemirror_mode": {
    "name": "ipython",
    "version": 3
   },
   "file_extension": ".py",
   "mimetype": "text/x-python",
   "name": "python",
   "nbconvert_exporter": "python",
   "pygments_lexer": "ipython3",
   "version": "3.6.8"
  }
 },
 "nbformat": 4,
 "nbformat_minor": 2
}
